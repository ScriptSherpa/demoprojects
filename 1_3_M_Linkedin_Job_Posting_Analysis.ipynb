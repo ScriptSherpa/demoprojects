{
  "metadata": {
    "kernelspec": {
      "language": "python",
      "display_name": "Python 3",
      "name": "python3"
    },
    "language_info": {
      "name": "python",
      "version": "3.10.13",
      "mimetype": "text/x-python",
      "codemirror_mode": {
        "name": "ipython",
        "version": 3
      },
      "pygments_lexer": "ipython3",
      "nbconvert_exporter": "python",
      "file_extension": ".py"
    },
    "kaggle": {
      "accelerator": "none",
      "dataSources": [
        {
          "sourceId": 7590738,
          "sourceType": "datasetVersion",
          "datasetId": 4418374
        }
      ],
      "dockerImageVersionId": 30673,
      "isInternetEnabled": true,
      "language": "python",
      "sourceType": "notebook",
      "isGpuEnabled": false
    },
    "colab": {
      "name": "1.3 M Linkedin Job Posting Analysis",
      "provenance": [],
      "include_colab_link": true
    }
  },
  "nbformat_minor": 0,
  "nbformat": 4,
  "cells": [
    {
      "cell_type": "markdown",
      "metadata": {
        "id": "view-in-github",
        "colab_type": "text"
      },
      "source": [
        "<a href=\"https://colab.research.google.com/github/ScriptSherpa/demoprojects/blob/main/1_3_M_Linkedin_Job_Posting_Analysis.ipynb\" target=\"_parent\"><img src=\"https://colab.research.google.com/assets/colab-badge.svg\" alt=\"Open In Colab\"/></a>"
      ]
    },
    {
      "source": [
        "# IMPORTANT: RUN THIS CELL IN ORDER TO IMPORT YOUR KAGGLE DATA SOURCES,\n",
        "# THEN FEEL FREE TO DELETE THIS CELL.\n",
        "# NOTE: THIS NOTEBOOK ENVIRONMENT DIFFERS FROM KAGGLE'S PYTHON\n",
        "# ENVIRONMENT SO THERE MAY BE MISSING LIBRARIES USED BY YOUR\n",
        "# NOTEBOOK.\n",
        "import kagglehub\n",
        "asaniczka_1_3m_linkedin_jobs_and_skills_2024_path = kagglehub.dataset_download('asaniczka/1-3m-linkedin-jobs-and-skills-2024')\n",
        "\n",
        "print('Data source import complete.')\n"
      ],
      "metadata": {
        "id": "3uTefwJCGiPW"
      },
      "cell_type": "code",
      "outputs": [],
      "execution_count": null
    },
    {
      "cell_type": "code",
      "source": [
        "# This Python 3 environment comes with many helpful analytics libraries installed\n",
        "# It is defined by the kaggle/python Docker image: https://github.com/kaggle/docker-python\n",
        "# For example, here's several helpful packages to load\n",
        "\n",
        "import numpy as np # linear algebra\n",
        "import pandas as pd # data processing, CSV file I/O (e.g. pd.read_csv)\n",
        "\n",
        "# Input data files are available in the read-only \"../input/\" directory\n",
        "# For example, running this (by clicking run or pressing Shift+Enter) will list all files under the input directory\n",
        "\n",
        "import os\n",
        "for dirname, _, filenames in os.walk('/kaggle/input'):\n",
        "    for filename in filenames:\n",
        "        print(os.path.join(dirname, filename))\n",
        "\n",
        "# You can write up to 20GB to the current directory (/kaggle/working/) that gets preserved as output when you create a version using \"Save & Run All\"\n",
        "# You can also write temporary files to /kaggle/temp/, but they won't be saved outside of the current session"
      ],
      "metadata": {
        "_uuid": "8f2839f25d086af736a60e9eeb907d3b93b6e0e5",
        "_cell_guid": "b1076dfc-b9ad-4769-8c92-a6c4dae69d19",
        "execution": {
          "iopub.status.busy": "2024-03-30T14:51:27.673042Z",
          "iopub.execute_input": "2024-03-30T14:51:27.673365Z",
          "iopub.status.idle": "2024-03-30T14:51:28.794487Z",
          "shell.execute_reply.started": "2024-03-30T14:51:27.673337Z",
          "shell.execute_reply": "2024-03-30T14:51:28.792642Z"
        },
        "trusted": true,
        "id": "wUhwkPVtGiPe"
      },
      "execution_count": null,
      "outputs": []
    },
    {
      "cell_type": "code",
      "source": [
        "job_skills = pd.read_csv('/kaggle/input/1-3m-linkedin-jobs-and-skills-2024/job_skills.csv')\n",
        "linkedin_job_posting = pd.read_csv('/kaggle/input/1-3m-linkedin-jobs-and-skills-2024/linkedin_job_postings.csv')"
      ],
      "metadata": {
        "execution": {
          "iopub.status.busy": "2024-03-30T14:51:28.796591Z",
          "iopub.execute_input": "2024-03-30T14:51:28.798013Z",
          "iopub.status.idle": "2024-03-30T14:51:53.599264Z",
          "shell.execute_reply.started": "2024-03-30T14:51:28.797979Z",
          "shell.execute_reply": "2024-03-30T14:51:53.597488Z"
        },
        "trusted": true,
        "id": "_0Ur1sGcGiPg"
      },
      "execution_count": null,
      "outputs": []
    },
    {
      "cell_type": "markdown",
      "source": [
        "> Combine two DataFrames: **linkedin_job_posting** and **job_skills**.\n",
        "\n",
        "> **Parameters:**\n",
        "\n",
        "> **on='job_link'**: This specifies that the merge should be performed based on the ‘job_link’ column. In other words, rows with the same ‘job_link’ in both DataFrames will be merged together.\n",
        "\n",
        "> **how='inner'**: This is the type of merge to be performed. ‘inner’ means that only the rows with matching ‘job_link’ in both DataFrames will be kept in the resulting DataFrame. This is also known as an inner join.\n",
        "\n",
        "> Performing this merge is to enrich the **linkedin_job_posting** DataFrame with additional information from the **job_skills** DataFrame. By doing this, each job posting in the **linkedin_job_posting** DataFrame will now have associated skills information from the **job_skills** DataFrame. This can be useful for further analysis, such as understanding the skills required for different job postings."
      ],
      "metadata": {
        "id": "fXdThnEjGiPi"
      }
    },
    {
      "cell_type": "code",
      "source": [
        "linkedin_job_posting = pd.merge(linkedin_job_posting, job_skills, on='job_link', how = 'inner')"
      ],
      "metadata": {
        "execution": {
          "iopub.status.busy": "2024-03-30T14:51:53.600522Z",
          "iopub.execute_input": "2024-03-30T14:51:53.600875Z",
          "iopub.status.idle": "2024-03-30T14:51:55.905235Z",
          "shell.execute_reply.started": "2024-03-30T14:51:53.600847Z",
          "shell.execute_reply": "2024-03-30T14:51:55.904138Z"
        },
        "trusted": true,
        "id": "yRUKR5dTGiPk"
      },
      "execution_count": null,
      "outputs": []
    },
    {
      "cell_type": "markdown",
      "source": [
        "> Given code cleans the **linkedin_job_posting** DataFrame by removing rows with missing values. This is a common preprocessing step in data analysis and machine learning because many algorithms do not handle missing values well."
      ],
      "metadata": {
        "id": "Xm7pm8LfGiPl"
      }
    },
    {
      "cell_type": "code",
      "source": [
        "print(linkedin_job_posting.shape)\n",
        "print('\\n')\n",
        "print(linkedin_job_posting.isna().sum())\n",
        "print('\\n')\n",
        "linkedin_job_posting = linkedin_job_posting.dropna()\n",
        "print(linkedin_job_posting.isna().sum())\n",
        "print('\\n')\n",
        "print(linkedin_job_posting.shape)"
      ],
      "metadata": {
        "execution": {
          "iopub.status.busy": "2024-03-30T14:51:55.908037Z",
          "iopub.execute_input": "2024-03-30T14:51:55.909654Z",
          "iopub.status.idle": "2024-03-30T14:51:58.849464Z",
          "shell.execute_reply.started": "2024-03-30T14:51:55.909599Z",
          "shell.execute_reply": "2024-03-30T14:51:58.848356Z"
        },
        "trusted": true,
        "id": "vFSq0AUWGiPn"
      },
      "execution_count": null,
      "outputs": []
    },
    {
      "cell_type": "markdown",
      "source": [
        "> the reason for performing these operations is to clean and standardize the text data in the **linkedin_job_posting** DataFrame. By converting all text to lowercase and replacing certain strings, it makes the data more consistent and easier to analyze or process in later steps."
      ],
      "metadata": {
        "execution": {
          "iopub.status.busy": "2024-03-30T07:10:20.915662Z",
          "iopub.execute_input": "2024-03-30T07:10:20.916073Z",
          "iopub.status.idle": "2024-03-30T07:11:01.356796Z",
          "shell.execute_reply.started": "2024-03-30T07:10:20.916042Z",
          "shell.execute_reply": "2024-03-30T07:11:01.355329Z"
        },
        "id": "ZJheAk5TGiPo"
      }
    },
    {
      "cell_type": "code",
      "source": [
        "linkedin_job_posting = linkedin_job_posting.applymap(lambda s:s.lower() if type(s) == str else s)\n",
        "linkedin_job_posting = linkedin_job_posting.replace({' & ': ' and '}, regex=True)"
      ],
      "metadata": {
        "execution": {
          "iopub.status.busy": "2024-03-30T14:51:58.850983Z",
          "iopub.execute_input": "2024-03-30T14:51:58.851381Z",
          "iopub.status.idle": "2024-03-30T14:52:27.47752Z",
          "shell.execute_reply.started": "2024-03-30T14:51:58.851343Z",
          "shell.execute_reply": "2024-03-30T14:52:27.476165Z"
        },
        "trusted": true,
        "id": "crEqB1STGiPp"
      },
      "execution_count": null,
      "outputs": []
    },
    {
      "cell_type": "markdown",
      "source": [
        "> **Checking the head of the dataframe.**"
      ],
      "metadata": {
        "id": "4uNrezvKGiPq"
      }
    },
    {
      "cell_type": "code",
      "source": [
        "linkedin_job_posting.head()"
      ],
      "metadata": {
        "execution": {
          "iopub.status.busy": "2024-03-30T14:52:27.479231Z",
          "iopub.execute_input": "2024-03-30T14:52:27.479589Z",
          "iopub.status.idle": "2024-03-30T14:52:27.507737Z",
          "shell.execute_reply.started": "2024-03-30T14:52:27.479546Z",
          "shell.execute_reply": "2024-03-30T14:52:27.506635Z"
        },
        "trusted": true,
        "id": "SQpWlqY3GiPq"
      },
      "execution_count": null,
      "outputs": []
    },
    {
      "cell_type": "markdown",
      "source": [
        "> Breaking down the ‘job_skills’ text into individual skills and then counting these skills to find out how many skills are needed for a particular **job_title**."
      ],
      "metadata": {
        "id": "hMELCMkiGiPr"
      }
    },
    {
      "cell_type": "code",
      "source": [
        "#defining function to iterate skills into list of skills and also removing 2 letter words like: is, it, am\n",
        "def itr_skills(row):\n",
        "\n",
        "    skills = row['job_skills'].split(', ')\n",
        "    skills = [skills for skills in skills if len(skills) >= 3]\n",
        "\n",
        "    return skills\n",
        "\n",
        "linkedin_job_posting['skills'] = linkedin_job_posting.apply(itr_skills, axis=1)# applying function\n",
        "\n",
        "linkedin_job_posting['skills_count'] = linkedin_job_posting['skills'].apply(len)\n",
        "\n",
        "linkedin_job_posting.head(2)"
      ],
      "metadata": {
        "execution": {
          "iopub.status.busy": "2024-03-30T14:52:27.509277Z",
          "iopub.execute_input": "2024-03-30T14:52:27.509666Z",
          "iopub.status.idle": "2024-03-30T14:52:49.690614Z",
          "shell.execute_reply.started": "2024-03-30T14:52:27.509631Z",
          "shell.execute_reply": "2024-03-30T14:52:49.689163Z"
        },
        "trusted": true,
        "id": "YwYu4r6mGiPs"
      },
      "execution_count": null,
      "outputs": []
    },
    {
      "cell_type": "code",
      "source": [
        "linkedin_job_posting.drop(['job_skills'], axis=1, inplace=True)\n",
        "linkedin_job_posting = linkedin_job_posting.rename(columns={'skills': 'job_skills'})"
      ],
      "metadata": {
        "execution": {
          "iopub.status.busy": "2024-03-30T14:52:49.692297Z",
          "iopub.execute_input": "2024-03-30T14:52:49.692813Z",
          "iopub.status.idle": "2024-03-30T14:52:50.986617Z",
          "shell.execute_reply.started": "2024-03-30T14:52:49.692775Z",
          "shell.execute_reply": "2024-03-30T14:52:50.985543Z"
        },
        "trusted": true,
        "id": "cU4fbR7sGiPt"
      },
      "execution_count": null,
      "outputs": []
    },
    {
      "cell_type": "markdown",
      "source": [
        "> By dropping the original **‘job_skills’** column and renaming the new **‘skills’** column to ***‘job_skills’***, it ensures that the DataFrame has a clean and correctly named ‘job_skills’ column for further analysis."
      ],
      "metadata": {
        "id": "DOo7ZD-DGiPu"
      }
    },
    {
      "cell_type": "code",
      "source": [
        "linkedin_job_posting['search_country'] = linkedin_job_posting['search_country'].astype('category')\n",
        "linkedin_job_posting['search_country'].cat.categories"
      ],
      "metadata": {
        "execution": {
          "iopub.status.busy": "2024-03-30T14:52:50.988342Z",
          "iopub.execute_input": "2024-03-30T14:52:50.98868Z",
          "iopub.status.idle": "2024-03-30T14:52:51.08671Z",
          "shell.execute_reply.started": "2024-03-30T14:52:50.988647Z",
          "shell.execute_reply": "2024-03-30T14:52:51.085345Z"
        },
        "trusted": true,
        "id": "1oyYRPVxGiPv"
      },
      "execution_count": null,
      "outputs": []
    },
    {
      "cell_type": "markdown",
      "source": [
        "> These steps are to make the dataFrame work faster and use less memory by changing the **‘search_country’** column into categories. By looking at the categories in the **‘search_country’** column, we can see all the different countries in the job postings data."
      ],
      "metadata": {
        "id": "clwjE8fTGiPv"
      }
    },
    {
      "cell_type": "markdown",
      "source": [
        "# Job Demand In Different Countries"
      ],
      "metadata": {
        "id": "P6xJlvmoGiPw"
      }
    },
    {
      "cell_type": "markdown",
      "source": [
        "* Analysing data for job demand in different countries."
      ],
      "metadata": {
        "id": "saizSPUFGiPw"
      }
    },
    {
      "cell_type": "code",
      "source": [
        "us_jobs = linkedin_job_posting[linkedin_job_posting['search_country'] == 'united states'] #filtering the linkedin_job_posting DataFrame where the ‘search_country’ column is ‘united states’.\n",
        "job_counts = us_jobs['job_title'].value_counts() #count of each unique job title in the us_jobs DataFrame.\n",
        "top_10_us_jobs = job_counts.head(10) # new data frame, contains top 10 job titles in US\n",
        "\n",
        "import matplotlib.pyplot as plt\n",
        "import seaborn as sns\n",
        "\n",
        "#creating a horizontal bar graph\n",
        "top_10_us_jobs.plot(kind='barh', figsize=(10, 6), color='blue')\n",
        "plt.xlabel('Number of Job Postings')\n",
        "plt.ylabel('Job Title')\n",
        "plt.title('Top 10 Most Demanded Job Titles in the United States')\n",
        "plt.gca().invert_yaxis()\n",
        "plt.show()"
      ],
      "metadata": {
        "execution": {
          "iopub.status.busy": "2024-03-30T14:52:51.091692Z",
          "iopub.execute_input": "2024-03-30T14:52:51.091999Z",
          "iopub.status.idle": "2024-03-30T14:52:53.731279Z",
          "shell.execute_reply.started": "2024-03-30T14:52:51.091972Z",
          "shell.execute_reply": "2024-03-30T14:52:53.729771Z"
        },
        "trusted": true,
        "id": "hRog1wGIGiP2"
      },
      "execution_count": null,
      "outputs": []
    },
    {
      "cell_type": "markdown",
      "source": [
        "* The length of each bar corresponds to the number of job postings for each listed job title, indicating the level of demand for that role. The longer the bar, the higher the demand for that job title. The **“Customer Service Representative”** role has the longest bar, indicating it is the most demanded job in **US.**\n",
        "\n",
        "> **In the same manner, you can view the top 10 in-demand jobs in the UK, Australia, and Canada.**"
      ],
      "metadata": {
        "id": "bKX6W3SpGiP2"
      }
    },
    {
      "cell_type": "code",
      "source": [
        "uk_jobs = linkedin_job_posting[linkedin_job_posting['search_country'] == 'united kingdom']\n",
        "job_counts2 = uk_jobs['job_title'].value_counts()\n",
        "top_10_uk_jobs = job_counts2.head(10)\n",
        "\n",
        "top_10_uk_jobs.plot(kind='barh', figsize=(10, 6), color='green')\n",
        "plt.xlabel('Number of Job Postings')\n",
        "plt.ylabel('Job Title')\n",
        "plt.title('Top 10 Most Demanded Job Titles in the United Kingdom')\n",
        "plt.gca().invert_yaxis()\n",
        "plt.show()"
      ],
      "metadata": {
        "execution": {
          "iopub.status.busy": "2024-03-30T14:52:53.732612Z",
          "iopub.execute_input": "2024-03-30T14:52:53.732992Z",
          "iopub.status.idle": "2024-03-30T14:52:54.056308Z",
          "shell.execute_reply.started": "2024-03-30T14:52:53.732959Z",
          "shell.execute_reply": "2024-03-30T14:52:54.055019Z"
        },
        "trusted": true,
        "id": "jqzpxK0FGiP3"
      },
      "execution_count": null,
      "outputs": []
    },
    {
      "cell_type": "code",
      "source": [
        "aus_jobs = linkedin_job_posting[linkedin_job_posting['search_country'] == 'australia']\n",
        "job_counts3 = uk_jobs['job_title'].value_counts()\n",
        "top_10_aus_jobs = job_counts3.head(10)\n",
        "\n",
        "top_10_aus_jobs.plot(kind='barh', figsize=(10, 6), color='red')\n",
        "plt.xlabel('Number of Job Postings')\n",
        "plt.ylabel('Job Title')\n",
        "plt.title('Top 10 Most Demanded Job Titles in the Australia')\n",
        "plt.gca().invert_yaxis()\n",
        "plt.show()"
      ],
      "metadata": {
        "execution": {
          "iopub.status.busy": "2024-03-30T14:52:54.057454Z",
          "iopub.execute_input": "2024-03-30T14:52:54.057786Z",
          "iopub.status.idle": "2024-03-30T14:52:54.38607Z",
          "shell.execute_reply.started": "2024-03-30T14:52:54.057757Z",
          "shell.execute_reply": "2024-03-30T14:52:54.385177Z"
        },
        "trusted": true,
        "id": "3jUevE8AGiP3"
      },
      "execution_count": null,
      "outputs": []
    },
    {
      "cell_type": "code",
      "source": [
        "canada_jobs = linkedin_job_posting[linkedin_job_posting['search_country'] == 'canada']\n",
        "job_counts4 = canada_jobs['job_title'].value_counts()\n",
        "top_10_canada_jobs = job_counts4.head(10)\n",
        "\n",
        "top_10_canada_jobs.plot(kind='barh', figsize=(10, 6), color='purple')\n",
        "plt.xlabel('Number of Job Postings')\n",
        "plt.ylabel('Job Title')\n",
        "plt.title('Top 10 Most Demanded Job Titles in the Canada')\n",
        "plt.gca().invert_yaxis()\n",
        "plt.show()"
      ],
      "metadata": {
        "execution": {
          "iopub.status.busy": "2024-03-30T14:52:54.387309Z",
          "iopub.execute_input": "2024-03-30T14:52:54.388322Z",
          "iopub.status.idle": "2024-03-30T14:52:54.699702Z",
          "shell.execute_reply.started": "2024-03-30T14:52:54.388243Z",
          "shell.execute_reply": "2024-03-30T14:52:54.698273Z"
        },
        "trusted": true,
        "id": "tGB2Fo-uGiP9"
      },
      "execution_count": null,
      "outputs": []
    },
    {
      "cell_type": "code",
      "source": [
        "linkedin_job_posting.head(2)"
      ],
      "metadata": {
        "execution": {
          "iopub.status.busy": "2024-03-30T14:52:54.701025Z",
          "iopub.execute_input": "2024-03-30T14:52:54.701377Z",
          "iopub.status.idle": "2024-03-30T14:52:54.724095Z",
          "shell.execute_reply.started": "2024-03-30T14:52:54.701348Z",
          "shell.execute_reply": "2024-03-30T14:52:54.723005Z"
        },
        "trusted": true,
        "id": "6RSyldZaGiP9"
      },
      "execution_count": null,
      "outputs": []
    },
    {
      "cell_type": "code",
      "source": [
        "print(linkedin_job_posting['first_seen'].dtype)\n",
        "print(linkedin_job_posting['last_processed_time'].dtype)"
      ],
      "metadata": {
        "execution": {
          "iopub.status.busy": "2024-03-30T14:52:54.725507Z",
          "iopub.execute_input": "2024-03-30T14:52:54.725951Z",
          "iopub.status.idle": "2024-03-30T14:52:54.73548Z",
          "shell.execute_reply.started": "2024-03-30T14:52:54.725916Z",
          "shell.execute_reply": "2024-03-30T14:52:54.734188Z"
        },
        "trusted": true,
        "id": "GktGJEkxGiP-"
      },
      "execution_count": null,
      "outputs": []
    },
    {
      "cell_type": "markdown",
      "source": [
        "> The columns **‘first_seen’** and **‘last_processed_time’** are currently of the object data type, and we need to transform them into the **datetime format**. However, it’s important to note that the **‘first_seen’** column **doesn’t contain timestamp data**, unlike the **‘last_processed_time’** column.\n",
        "\n",
        "> Therefore, before we can convert the **‘last_processed_time’** column into datetime format, we must first change it into a **string** and **eliminate the timestamp** data. This step is crucial for the successful conversion into **datetime format**."
      ],
      "metadata": {
        "id": "apCM37VcGiQD"
      }
    },
    {
      "cell_type": "code",
      "source": [
        "\n",
        "linkedin_job_posting['first_seen'] = pd.to_datetime(linkedin_job_posting['first_seen'])\n",
        "linkedin_job_posting['first_seen_date'] = linkedin_job_posting['first_seen'].dt.date\n",
        "# Convert to string\n",
        "linkedin_job_posting['last_processed_time'] = linkedin_job_posting['last_processed_time'].astype(str)\n",
        "# Remove time data\n",
        "linkedin_job_posting['last_processed_time'] = linkedin_job_posting['last_processed_time'].str.split(' ').str[0]\n",
        "linkedin_job_posting['last_processed_time'] = pd.to_datetime(linkedin_job_posting['last_processed_time'])\n",
        "linkedin_job_posting['process_duration'] = (linkedin_job_posting['last_processed_time'] - linkedin_job_posting['first_seen']).dt.days"
      ],
      "metadata": {
        "execution": {
          "iopub.status.busy": "2024-03-30T14:52:54.736866Z",
          "iopub.execute_input": "2024-03-30T14:52:54.737203Z",
          "iopub.status.idle": "2024-03-30T14:53:01.60144Z",
          "shell.execute_reply.started": "2024-03-30T14:52:54.737172Z",
          "shell.execute_reply": "2024-03-30T14:53:01.600777Z"
        },
        "trusted": true,
        "id": "Fs7D7G8fGiQE"
      },
      "execution_count": null,
      "outputs": []
    },
    {
      "cell_type": "markdown",
      "source": [
        "> The execution of the aforementioned code aims to extract valuable insights from the **‘first_seen’ and ‘last_processed_time’** columns in the LinkedIn job posting DataFrame. The calculation of **‘process_duration’** **provides insight into the duration required to process each job posting.**"
      ],
      "metadata": {
        "id": "tCEvtnQaGiQF"
      }
    },
    {
      "cell_type": "markdown",
      "source": [
        "# Job Market Trend & Processing time"
      ],
      "metadata": {
        "id": "dZidT-TyGiQF"
      }
    },
    {
      "cell_type": "markdown",
      "source": [
        "> By creating a **line plot** of the number of job postings for **first_seen**, it **provides a visual representation of the job market trends.**"
      ],
      "metadata": {
        "id": "x79QytRiGiQG"
      }
    },
    {
      "cell_type": "code",
      "source": [
        "sns.set(style=\"whitegrid\")\n",
        "\n",
        "# Job Posting Trends\n",
        "plt.figure(figsize=(10, 6))\n",
        "linkedin_job_posting['first_seen'].value_counts().sort_index().plot(kind='line', linewidth=2.5)\n",
        "plt.title('Job Posting Trends Over Time')\n",
        "plt.xlabel('Date')\n",
        "plt.ylabel('Number of Job Postings')\n",
        "plt.show()"
      ],
      "metadata": {
        "execution": {
          "iopub.status.busy": "2024-03-30T14:53:01.602357Z",
          "iopub.execute_input": "2024-03-30T14:53:01.602603Z",
          "iopub.status.idle": "2024-03-30T14:53:02.215442Z",
          "shell.execute_reply.started": "2024-03-30T14:53:01.602582Z",
          "shell.execute_reply": "2024-03-30T14:53:02.213894Z"
        },
        "trusted": true,
        "id": "0MYpjFWSGiQM"
      },
      "execution_count": null,
      "outputs": []
    },
    {
      "cell_type": "code",
      "source": [
        "import calendar\n",
        "\n",
        "print(calendar.month(2024, 1))"
      ],
      "metadata": {
        "execution": {
          "iopub.status.busy": "2024-03-30T14:53:02.216682Z",
          "iopub.execute_input": "2024-03-30T14:53:02.216977Z",
          "iopub.status.idle": "2024-03-30T14:53:02.226107Z",
          "shell.execute_reply.started": "2024-03-30T14:53:02.216949Z",
          "shell.execute_reply": "2024-03-30T14:53:02.224725Z"
        },
        "trusted": true,
        "id": "oJ9GESx3GiQN"
      },
      "execution_count": null,
      "outputs": []
    },
    {
      "cell_type": "markdown",
      "source": [
        "* The graph displays the number of job postings over a six-day period from **January 12, 2024** to **January 17, 2024**.\n",
        "\n",
        "* Here’s a detailed explanation:\n",
        "\n",
        "1. The graph starts on **January 12**, with a relatively low number of job postings.\n",
        "\n",
        "2. There is a significant increase in job postings in the following days, reaching its peak on **January 14** with approximately **400,000** postings. This indicates that most of the jobs were posted on **weekend days. (january,13- Saturday & january, 14-Sunday)**\n",
        "\n",
        "3. After reaching this peak, there is a sharp decline in the number of job postings. By **January 17**, the number of job postings drops to around **50,000**. This sharp decline could be due to a variety of factors such as the end of a job posting cycle or a decrease in job availability.\n",
        "\n",
        "\n",
        "* This trend suggests that job seekers would have the most opportunities if they were to search for jobs around **January 14**. However, it’s important to note that these trends can vary and may not be the same in the future."
      ],
      "metadata": {
        "id": "yuoby9ExGiQN"
      }
    },
    {
      "cell_type": "code",
      "source": [
        "# Processing Time\n",
        "plt.figure(figsize=(10, 6))\n",
        "sns.histplot(data=linkedin_job_posting, x='process_duration', binwidth=0.3, color = 'orange')\n",
        "plt.title('Distribution of Processing Time')\n",
        "plt.xlabel('Processing Time (days)')\n",
        "plt.ylabel('Number of Job Postings')\n",
        "plt.show()"
      ],
      "metadata": {
        "execution": {
          "iopub.status.busy": "2024-03-30T14:53:02.227997Z",
          "iopub.execute_input": "2024-03-30T14:53:02.228488Z",
          "iopub.status.idle": "2024-03-30T14:53:02.82436Z",
          "shell.execute_reply.started": "2024-03-30T14:53:02.228444Z",
          "shell.execute_reply": "2024-03-30T14:53:02.823493Z"
        },
        "trusted": true,
        "id": "96A-8lEWGiQT"
      },
      "execution_count": null,
      "outputs": []
    },
    {
      "cell_type": "markdown",
      "source": [
        "* The provided chart is a bar graph that represents the distribution of processing time for job postings. Here are some insights based on the chart:\n",
        "\n",
        "1. The chart shows the number of job postings processed within a specific number of days. The x-axis represents the **“Processing Time (days)”, ranging from 2 to 9 days**, while the y-axis represents the **“Number of Job Postings”, reaching up to 600,000.**\n",
        "\n",
        "2. There are six bars representing data for processing times of jobs on different days. The bars for **day 6** & **day 8** have significantly higher values than others, with **day six being the highest with over half a million job postings processed.** This suggests that the sixth and eighth days were the most active in terms of job posting processing.\n",
        "\n",
        "3. **Days 2 through 5 and days 8 & 9 have very low values** comparatively. This indicates that **fewer job postings were processed on these days.**\n",
        "\n",
        "4. The chart shows a general trend of fluctuating processing times, with some days being more active than others. This could be due to various factors such as the volume of job postings received, the efficiency of the processing system, or the availability of resources on specific days.\n",
        "\n",
        "* In conclusion, this chart provides valuable insights into the distribution of processing times for job postings. It can help in understanding the efficiency of the job posting process and identifying potential areas for improvement. For instance, strategies could be developed to evenly distribute the processing load across all days to avoid significant fluctuations."
      ],
      "metadata": {
        "id": "J5cJzuikGiQU"
      }
    },
    {
      "cell_type": "markdown",
      "source": [
        "# Distribution of Job Levels in LinkedIn Postings"
      ],
      "metadata": {
        "id": "5rDVokRJGiQU"
      }
    },
    {
      "cell_type": "code",
      "source": [
        "counts = linkedin_job_posting['job_level'].value_counts()\n",
        "\n",
        "fig, ax = plt.subplots()\n",
        "wedges, texts, autotexts = ax.pie(counts, autopct='%1.1f%%', startangle=90, colors=['#ff9999','#66b3ff','#99ff99','#ffcc99'])\n",
        "\n",
        "centre_circle = plt.Circle((0,0),0.70,fc='white')\n",
        "fig = plt.gcf()\n",
        "fig.gca().add_artist(centre_circle)\n",
        "\n",
        "ax.axis('equal')\n",
        "\n",
        "plt.legend(wedges, counts.index,\n",
        "          title=\"Job Levels\",\n",
        "          loc=\"center left\",\n",
        "          bbox_to_anchor=(1, 0, 0.5, 1))\n",
        "\n",
        "plt.title('Distribution of Job Levels in LinkedIn Postings')\n",
        "plt.show()"
      ],
      "metadata": {
        "execution": {
          "iopub.status.busy": "2024-03-30T14:53:02.825394Z",
          "iopub.execute_input": "2024-03-30T14:53:02.825678Z",
          "iopub.status.idle": "2024-03-30T14:53:03.064969Z",
          "shell.execute_reply.started": "2024-03-30T14:53:02.825651Z",
          "shell.execute_reply": "2024-03-30T14:53:03.063471Z"
        },
        "trusted": true,
        "id": "rBAjhfPxGiQU"
      },
      "execution_count": null,
      "outputs": []
    },
    {
      "cell_type": "markdown",
      "source": [
        "1. The chart shows two job levels: mid-senior and associate. The **mid-senior level** jobs are depicted in pink and **constitute the majority at 89.1%**. On the other hand, **associate level** jobs are depicted in blue and **make up 10.9% of the total.**\n",
        "\n",
        "2. This distribution indicates a **higher demand or availability of mid-senior level jobs compared to associate level jobs on LinkedIn.** It suggests that LinkedIn is a platform where more experienced professionals are likely to find opportunities that match their skill level.\n",
        "\n",
        "3. However, the relatively smaller percentage of **associate level jobs** does not necessarily mean that there are fewer opportunities for less experienced professionals. It could also indicate that such jobs **are not posted as frequently or that they get filled more quickly.**\n",
        "\n",
        "* In conclusion, this chart provides valuable insights into the job market dynamics on LinkedIn, particularly regarding the distribution of job levels. It can be useful for job seekers to understand where they might have the best chances of finding job postings that match their level of experience."
      ],
      "metadata": {
        "id": "Mki3bgdoGiQa"
      }
    },
    {
      "cell_type": "code",
      "source": [
        "counts2 = linkedin_job_posting['job_type'].value_counts()\n",
        "\n",
        "\n",
        "fig, ax = plt.subplots()\n",
        "wedges, _ = ax.pie(counts2, startangle=90, colors=['#40E0D0','#FFD700','#FF6347'])\n",
        "\n",
        "\n",
        "centre_circle = plt.Circle((0,0),0.70,fc='white')\n",
        "fig = plt.gcf()\n",
        "fig.gca().add_artist(centre_circle)\n",
        "\n",
        "\n",
        "ax.axis('equal')\n",
        "\n",
        "\n",
        "labels = [f'{i} - {j} ({j/counts2.sum()*100:.1f}%)' for i,j in zip(counts2.index, counts2)]\n",
        "plt.legend(wedges, labels,\n",
        "          title=\"Job Types\",\n",
        "          loc=\"center left\",\n",
        "          bbox_to_anchor=(1, 0, 0.5, 1))\n",
        "\n",
        "plt.title(\"Distribution of Job Types in LinkedIn Postings\")\n",
        "plt.show()"
      ],
      "metadata": {
        "execution": {
          "iopub.status.busy": "2024-03-30T14:53:03.066509Z",
          "iopub.execute_input": "2024-03-30T14:53:03.067216Z",
          "iopub.status.idle": "2024-03-30T14:53:03.327301Z",
          "shell.execute_reply.started": "2024-03-30T14:53:03.067177Z",
          "shell.execute_reply": "2024-03-30T14:53:03.326294Z"
        },
        "trusted": true,
        "id": "BT-Xqnc9GiQk"
      },
      "execution_count": null,
      "outputs": []
    },
    {
      "cell_type": "markdown",
      "source": [
        "1. The chart shows three job types: onsite, hybrid, and remote. The **onsite jobs** are depicted in cyan and constitute the majority at **99.2%.** **Hybrid jobs** are depicted in golden and make up **0.5%** of the total, while **remote jobs** are depicted in red and account for **0.3%.**\n",
        "\n",
        "2. This distribution indicates a **significant dominance of onsite job postings on LinkedIn**, suggesting that companies might still be largely favoring **traditional in-office work settings.**\n",
        "\n",
        "3. Hybrid and remote job opportunities constitute a minimal portion of the total job postings, indicating limited availability or preference for these types of working arrangements.\n",
        "\n",
        "* In conclusion, this chart provides valuable insights into the job market dynamics on LinkedIn, particularly regarding the distribution of job types. It **can be useful for job seekers to understand where they might have the best chances of finding job postings that match their preferred work arrangement.**"
      ],
      "metadata": {
        "id": "gh1NmRBZGiQl"
      }
    },
    {
      "cell_type": "markdown",
      "source": [
        "# most most sought-after skills in different jobs"
      ],
      "metadata": {
        "id": "RiCRpcTkGiQl"
      }
    },
    {
      "cell_type": "markdown",
      "source": [
        "> By finding the **most common skill for each job title**, you can get an idea of **what skills are most in demand for each type of job**. This can be useful for job seekers, recruiters, or anyone doing labor market research."
      ],
      "metadata": {
        "id": "nYAtgTc5GiQr"
      }
    },
    {
      "cell_type": "code",
      "source": [
        "df = linkedin_job_posting\n",
        "\n",
        "from collections import Counter\n",
        "\n",
        "grouped_skills = df.groupby('job_title')['job_skills'].sum()\n",
        "\n",
        "most_common_skills = grouped_skills.apply(lambda x: Counter(x).most_common(1))\n",
        "\n",
        "data = []\n",
        "\n",
        "for position, skills in most_common_skills.items():\n",
        "    if skills:\n",
        "        data.append([position, skills[0][0], skills[0][1]])\n",
        "\n",
        "df_most_common_skills = pd.DataFrame(data, columns=['job_title', 'Most Common Skill', 'Occurrences'])\n",
        "\n"
      ],
      "metadata": {
        "execution": {
          "iopub.status.busy": "2024-03-30T14:53:03.328728Z",
          "iopub.execute_input": "2024-03-30T14:53:03.329377Z",
          "iopub.status.idle": "2024-03-30T14:54:48.728737Z",
          "shell.execute_reply.started": "2024-03-30T14:53:03.329336Z",
          "shell.execute_reply": "2024-03-30T14:54:48.727945Z"
        },
        "trusted": true,
        "id": "NK5bYdaWGiQx"
      },
      "execution_count": null,
      "outputs": []
    },
    {
      "cell_type": "markdown",
      "source": [
        "> Given below dataframe contains **most common skill for each job_title.**"
      ],
      "metadata": {
        "id": "P4CoqKnwGiQ0"
      }
    },
    {
      "cell_type": "code",
      "source": [
        "df_most_common_skills.sort_values(by = 'Occurrences', ascending = False).head(10)"
      ],
      "metadata": {
        "execution": {
          "iopub.status.busy": "2024-03-30T14:54:48.729962Z",
          "iopub.execute_input": "2024-03-30T14:54:48.730236Z",
          "iopub.status.idle": "2024-03-30T14:54:48.813674Z",
          "shell.execute_reply.started": "2024-03-30T14:54:48.730213Z",
          "shell.execute_reply": "2024-03-30T14:54:48.812673Z"
        },
        "trusted": true,
        "id": "nbWz4nGeGiQ5"
      },
      "execution_count": null,
      "outputs": []
    },
    {
      "cell_type": "markdown",
      "source": [
        "# Top 15 Required Skills in Linkedin"
      ],
      "metadata": {
        "execution": {
          "iopub.status.busy": "2024-03-30T14:18:01.100366Z",
          "iopub.execute_input": "2024-03-30T14:18:01.101007Z",
          "iopub.status.idle": "2024-03-30T14:18:01.109095Z",
          "shell.execute_reply.started": "2024-03-30T14:18:01.10097Z",
          "shell.execute_reply": "2024-03-30T14:18:01.107315Z"
        },
        "id": "pF8Z_PdqGiQ6"
      }
    },
    {
      "cell_type": "code",
      "source": [
        "job_skills = job_skills.dropna()\n",
        "\n",
        "skills = ''\n",
        "for skill in job_skills.job_skills:\n",
        "    skills += skill.lower()\n",
        "\n",
        "skills = skills.split(', ')\n",
        "skills[:10], len(skills)"
      ],
      "metadata": {
        "execution": {
          "iopub.status.busy": "2024-03-30T14:54:48.814542Z",
          "iopub.execute_input": "2024-03-30T14:54:48.814984Z",
          "iopub.status.idle": "2024-03-30T14:54:58.376324Z",
          "shell.execute_reply.started": "2024-03-30T14:54:48.814958Z",
          "shell.execute_reply": "2024-03-30T14:54:58.375338Z"
        },
        "trusted": true,
        "id": "Mk1IPiq7GiQ6"
      },
      "execution_count": null,
      "outputs": []
    },
    {
      "cell_type": "code",
      "source": [
        "from collections import Counter\n",
        "counts = Counter(skills)\n",
        "common_skills = counts.most_common(15)\n",
        "common_skills"
      ],
      "metadata": {
        "execution": {
          "iopub.status.busy": "2024-03-30T14:54:58.377393Z",
          "iopub.execute_input": "2024-03-30T14:54:58.377722Z",
          "iopub.status.idle": "2024-03-30T14:55:09.086216Z",
          "shell.execute_reply.started": "2024-03-30T14:54:58.377695Z",
          "shell.execute_reply": "2024-03-30T14:55:09.084987Z"
        },
        "trusted": true,
        "id": "5f4kEynwGiQ7"
      },
      "execution_count": null,
      "outputs": []
    },
    {
      "cell_type": "code",
      "source": [
        "labels, values = zip(*common_skills)\n",
        "labels = [label.title() for label in labels]\n",
        "plt.figure(figsize=(12, 8))\n",
        "bars = plt.barh(labels[::-1], values[::-1], color=sns.color_palette(\"Spectral\"))\n",
        "\n",
        "for bar in bars:\n",
        "    width = bar.get_width()\n",
        "    label_x_pos = width + 5000\n",
        "    plt.text(label_x_pos, bar.get_y() + bar.get_height()/2, f\"{width:,.0f}\", va='center', color='red')\n",
        "\n",
        "plt.xlabel('Frequency')\n",
        "plt.ylabel('Skills')\n",
        "plt.title('Top 15 Required Skills in LinkedIn', color='red')\n",
        "\n",
        "plt.grid(axis='both', linestyle='-', alpha=0.5)\n",
        "\n",
        "plt.xlim(0, 400_000)\n",
        "plt.show()"
      ],
      "metadata": {
        "execution": {
          "iopub.status.busy": "2024-03-30T14:55:09.087647Z",
          "iopub.execute_input": "2024-03-30T14:55:09.087991Z",
          "iopub.status.idle": "2024-03-30T14:55:10.059707Z",
          "shell.execute_reply.started": "2024-03-30T14:55:09.087957Z",
          "shell.execute_reply": "2024-03-30T14:55:10.058527Z"
        },
        "trusted": true,
        "id": "hgjfhR7LGiRA"
      },
      "execution_count": null,
      "outputs": []
    },
    {
      "cell_type": "markdown",
      "source": [
        "1. **Communication:** This is the most required skill with a frequency of 352,814.\n",
        "2. **Teamwork:** This skill comes second with a frequency of 218,291.\n",
        "3. **Customer Service:** This is the third most required skill with a frequency of 193,452.\n",
        "4. **Data Analysis:** Among the top 15, this is the least required skill with a frequency of 77,863.\n",
        "\n",
        "* Other skills listed in the chart include Leadership, Problem Solving, Time Management, Attention to Detail, Project Management, Interpersonal Skills, Patient Care, Collaboration, and Training.\n",
        "\n",
        "> **Insights**:\n",
        "\n",
        "* The high frequency of ‘Communication’ and ‘Teamwork’ suggests that employers highly value these soft skills, indicating the importance of effective interaction in the workplace.\n",
        "\n",
        "* ‘Customer Service’ being the third most required skill could imply a significant number of customer-facing roles.\n",
        "\n",
        "* Despite the rise of data-driven decision making, ‘Data Analysis’ is the least required among the top 15 skills, suggesting that it might be a specialized skill required for specific roles.\n",
        "\n",
        "* The presence of ‘Problem Solving’, ‘Leadership’, and ‘Project Management’ among the top skills indicates the demand for individuals who can lead teams and handle complex projects effectively.\n",
        "\n",
        "* The chart also highlights the importance of ‘Interpersonal Skills’ and ‘Collaboration’, reinforcing the value of teamwork in the professional environment.\n",
        "\n",
        "* ‘Patient Care’ being in the list might suggest a considerable number of healthcare-related jobs on LinkedIn.\n",
        "\n",
        "* It’s interesting to note that ‘Problem Solving’ appears twice in the chart (**once as ‘Problem Solving’ and once as ‘Problemsolving’)**, which might be **due to a data entry error or different categorizations of the same skill**. This duplication might affect the accuracy of the chart."
      ],
      "metadata": {
        "id": "qUWUNrrTGiRB"
      }
    },
    {
      "cell_type": "code",
      "source": [
        "print(f\"You need on average {int(linkedin_job_posting['skills_count'].median())} skills to apply for a job on linked in\")"
      ],
      "metadata": {
        "execution": {
          "iopub.status.busy": "2024-03-30T14:55:10.061165Z",
          "iopub.execute_input": "2024-03-30T14:55:10.061532Z",
          "iopub.status.idle": "2024-03-30T14:55:10.092216Z",
          "shell.execute_reply.started": "2024-03-30T14:55:10.061501Z",
          "shell.execute_reply": "2024-03-30T14:55:10.090915Z"
        },
        "trusted": true,
        "id": "eNINp5vcGiRB"
      },
      "execution_count": null,
      "outputs": []
    },
    {
      "cell_type": "markdown",
      "source": [
        "> **We can use the filter provided below to sort companies and the count of vacancies for a specific job title.**"
      ],
      "metadata": {
        "id": "2-cr3g6KGiRC"
      }
    },
    {
      "cell_type": "code",
      "source": [
        "\n",
        "specific_position = 'lead sales associate-pt'\n",
        "\n",
        "\n",
        "filtered_df = linkedin_job_posting[linkedin_job_posting['job_title'] == specific_position]\n",
        "\n",
        "\n",
        "grouped_df = filtered_df.groupby(['company','job_title', 'search_city', 'search_country']).size().reset_index(name='vacancies')\n",
        "\n",
        "\n",
        "search_job = grouped_df.sort_values(by='vacancies', ascending=False)\n",
        "print((search_job[search_job['vacancies'] > 0]).head(10))"
      ],
      "metadata": {
        "execution": {
          "iopub.status.busy": "2024-03-30T14:55:10.095893Z",
          "iopub.execute_input": "2024-03-30T14:55:10.096123Z",
          "iopub.status.idle": "2024-03-30T14:55:10.21981Z",
          "shell.execute_reply.started": "2024-03-30T14:55:10.096103Z",
          "shell.execute_reply": "2024-03-30T14:55:10.218413Z"
        },
        "trusted": true,
        "id": "K2iA2z8zGiRJ"
      },
      "execution_count": null,
      "outputs": []
    },
    {
      "cell_type": "markdown",
      "source": [
        "# Job Recommendation sysytem"
      ],
      "metadata": {
        "execution": {
          "iopub.status.busy": "2024-03-30T07:11:50.993472Z",
          "iopub.execute_input": "2024-03-30T07:11:50.994552Z",
          "iopub.status.idle": "2024-03-30T07:11:51.001621Z",
          "shell.execute_reply.started": "2024-03-30T07:11:50.994508Z",
          "shell.execute_reply": "2024-03-30T07:11:50.999163Z"
        },
        "id": "Z6oju9y4GiRK"
      }
    },
    {
      "cell_type": "markdown",
      "source": [
        "> **creating function for job recommendation**\n",
        "\n",
        "* **We only use a small part of our data. This is because calculating ‘cosine similarity’ requires a lot of computational power and time, especially when we have a large dataset.**\n",
        "\n",
        "* **So, we used a small piece of our data and calculated the cosine similarity for that piece.**\n",
        "\n",
        "> **This is just a way to show you how you can build a system that makes recommendations.\"**"
      ],
      "metadata": {
        "id": "Tqvywe7kGiRK"
      }
    },
    {
      "cell_type": "code",
      "source": [
        "from sklearn.feature_extraction.text import CountVectorizer\n",
        "from sklearn.metrics.pairwise import cosine_similarity\n",
        "\n",
        "df = linkedin_job_posting\n",
        "\n",
        "df['job_skills_str'] = df['job_skills'].apply(lambda x: ' '.join(x))\n",
        "subset_df = df.sample(frac=0.01, random_state=1)  # Adjust the fraction as needed\n",
        "vectorizer = CountVectorizer()\n",
        "\n",
        "skills_matrix = vectorizer.fit_transform(subset_df['job_skills_str'])\n",
        "\n",
        "cosine_sim = cosine_similarity(skills_matrix)\n",
        "\n",
        "def recommend_jobs(skills):\n",
        "\n",
        "    skills_str = ' '.join(skills)\n",
        "\n",
        "    skills_vec = vectorizer.transform([skills_str])\n",
        "\n",
        "    sim_scores = cosine_similarity(skills_vec, skills_matrix).flatten()\n",
        "\n",
        "    indices = sim_scores.argsort()[::-1]\n",
        "\n",
        "    return subset_df['job_title'].iloc[indices[:10]]"
      ],
      "metadata": {
        "execution": {
          "iopub.status.busy": "2024-03-30T14:55:10.22109Z",
          "iopub.execute_input": "2024-03-30T14:55:10.221405Z",
          "iopub.status.idle": "2024-03-30T14:55:18.096894Z",
          "shell.execute_reply.started": "2024-03-30T14:55:10.221377Z",
          "shell.execute_reply": "2024-03-30T14:55:18.094879Z"
        },
        "trusted": true,
        "id": "Uqj_-hggGiRQ"
      },
      "execution_count": null,
      "outputs": []
    },
    {
      "cell_type": "markdown",
      "source": [
        "* The **recommend_jobs(skills)** function recommends **job titles** based on a given set of **skills**. It does this by:\n",
        "\n",
        "1. **Converting the input skills to a string.**\n",
        "\n",
        "2. **Transforming the input skills to the same vector space as the job skills.**\n",
        "\n",
        "3. **Computing the cosine similarity between the input skills and all job skills.**\n",
        "\n",
        "4. **Getting the indices of the jobs sorted by their similarity scores.**\n",
        "\n",
        "5. **Returning the top 10 most similar job titles.**"
      ],
      "metadata": {
        "id": "NMdgyubeGiRR"
      }
    },
    {
      "cell_type": "markdown",
      "source": [
        "> **Example of Use Case**"
      ],
      "metadata": {
        "id": "YkCBlTFVGiRS"
      }
    },
    {
      "cell_type": "code",
      "source": [
        "print(recommend_jobs(['cashier','sales']))"
      ],
      "metadata": {
        "execution": {
          "iopub.status.busy": "2024-03-30T14:55:18.098256Z",
          "iopub.execute_input": "2024-03-30T14:55:18.098582Z",
          "iopub.status.idle": "2024-03-30T14:55:18.130933Z",
          "shell.execute_reply.started": "2024-03-30T14:55:18.098536Z",
          "shell.execute_reply": "2024-03-30T14:55:18.130044Z"
        },
        "trusted": true,
        "id": "yj8duE09GiRT"
      },
      "execution_count": null,
      "outputs": []
    }
  ]
}